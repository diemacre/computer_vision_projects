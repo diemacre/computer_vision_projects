{
 "cells": [
  {
   "cell_type": "code",
   "execution_count": 1,
   "metadata": {},
   "outputs": [
    {
     "name": "stdout",
     "output_type": "stream",
     "text": [
      "This Jupyter notebook contains the exercises of assigment 0\n"
     ]
    }
   ],
   "source": [
    "# Title: Assigment 0 of CS512- Computer Vision\n",
    "# Term: Fall 2018\n",
    "# Author: Diego Martin Crespo\n",
    "# Id: A20432558\n",
    "print ('This Jupyter notebook contains the exercises of assigment 0')"
   ]
  },
  {
   "cell_type": "code",
   "execution_count": 2,
   "metadata": {},
   "outputs": [],
   "source": [
    "#Necesary libraries for operations\n",
    "import numpy as np\n",
    "from random import randint, uniform,random\n",
    "import math"
   ]
  },
  {
   "cell_type": "code",
   "execution_count": 3,
   "metadata": {},
   "outputs": [],
   "source": [
    "#A.--------------------------------------------------------------------------------------\n",
    "a= np.array([1,2,3])\n",
    "b= np.array([4,5,6])\n",
    "c= np.array([-1,1,3])"
   ]
  },
  {
   "cell_type": "code",
   "execution_count": 4,
   "metadata": {},
   "outputs": [
    {
     "name": "stdout",
     "output_type": "stream",
     "text": [
      "[-2 -1  0]\n"
     ]
    }
   ],
   "source": [
    "#A.1: 2A-B\n",
    "a1=2*a-b\n",
    "print(a1)"
   ]
  },
  {
   "cell_type": "code",
   "execution_count": 5,
   "metadata": {},
   "outputs": [
    {
     "name": "stdout",
     "output_type": "stream",
     "text": [
      "The ||A|| is: 3.7417 and the angle realtive to X axis is: 74.4988 degrees\n"
     ]
    }
   ],
   "source": [
    "#A.2: ||A|| and angle relative to X axis\n",
    "a21=round(np.linalg.norm(a),4)\n",
    "a22=round(np.rad2deg(np.arccos(1/a21)),4)\n",
    "print(\"The ||A|| is: \"+str(a21)+\" and the angle realtive to X axis is: \"+str(a22)+\" degrees\")"
   ]
  },
  {
   "cell_type": "code",
   "execution_count": 6,
   "metadata": {},
   "outputs": [
    {
     "name": "stdout",
     "output_type": "stream",
     "text": [
      "[0.2672582  0.5345164  0.80177459]\n"
     ]
    }
   ],
   "source": [
    "#A.3: Av unit direction of A\n",
    "a31=a/a21\n",
    "print(a31)"
   ]
  },
  {
   "cell_type": "code",
   "execution_count": 7,
   "metadata": {},
   "outputs": [
    {
     "name": "stdout",
     "output_type": "stream",
     "text": [
      "The directions cos(x), cos(y) & cos(z) are respectly: 0.2673, 0.5345 & 0.8018\n"
     ]
    }
   ],
   "source": [
    "#A.4: direction of cosines of A\n",
    "a41=round(a[0]/a21,4)\n",
    "a42=round(a[1]/a21,4)\n",
    "a43=round(a[2]/a21,4)\n",
    "print(\"The directions cos(x), cos(y) & cos(z) are respectly: \"+str(a41)+\", \"+str(a42)+\" & \"+str(a43))"
   ]
  },
  {
   "cell_type": "code",
   "execution_count": 8,
   "metadata": {},
   "outputs": [
    {
     "name": "stdout",
     "output_type": "stream",
     "text": [
      "A.B = 32 = B.A\n"
     ]
    }
   ],
   "source": [
    "#A.5: A.B and B.A\n",
    "a51=np.dot(a,b)\n",
    "a52=np.dot(b,a)\n",
    "print(\"A.B = \"+str(a51)+\" = B.A\")"
   ]
  },
  {
   "cell_type": "code",
   "execution_count": 9,
   "metadata": {},
   "outputs": [
    {
     "name": "stdout",
     "output_type": "stream",
     "text": [
      "12.937 degrees\n"
     ]
    }
   ],
   "source": [
    "#A.6: angle between A & B\n",
    "a61=round(np.linalg.norm(b),4)\n",
    "a62=round(np.rad2deg(np.arccos(np.dot(a,b)/(a21*a61))),4)\n",
    "print(str(a62)+\" degrees\")"
   ]
  },
  {
   "cell_type": "code",
   "execution_count": 10,
   "metadata": {},
   "outputs": [
    {
     "name": "stdout",
     "output_type": "stream",
     "text": [
      "[ -1 -13   9]\n",
      "if equal to '0' is good = 0\n"
     ]
    }
   ],
   "source": [
    "#A.7: perpendicular vector to A\n",
    "a71=np.array([randint(0,10),randint(0,10),randint(0,10)])\n",
    "a72=np.cross(a71,a)\n",
    "comprovation= np.dot(a72,a)\n",
    "print(a72)\n",
    "print(\"if equal to '0' is good = \"+str(comprovation))"
   ]
  },
  {
   "cell_type": "code",
   "execution_count": 11,
   "metadata": {},
   "outputs": [
    {
     "name": "stdout",
     "output_type": "stream",
     "text": [
      "AxB = [-3  6 -3]\n",
      "BxA = [ 3 -6  3]\n"
     ]
    }
   ],
   "source": [
    "#A.8: AxB and BxA\n",
    "a81=np.cross(a,b)\n",
    "a82=np.cross(b,a)\n",
    "print(\"AxB = \"+str(a81))\n",
    "print(\"BxA = \"+str(a82))"
   ]
  },
  {
   "cell_type": "code",
   "execution_count": 12,
   "metadata": {},
   "outputs": [
    {
     "name": "stdout",
     "output_type": "stream",
     "text": [
      "Directly is AxB = [-3  6 -3]\n"
     ]
    }
   ],
   "source": [
    "#A.9: vector perpendicular to A or B\n",
    "print(\"Directly is AxB = \"+str(a81))"
   ]
  },
  {
   "cell_type": "code",
   "execution_count": 13,
   "metadata": {},
   "outputs": [
    {
     "name": "stdout",
     "output_type": "stream",
     "text": [
      "|D|= 0.0\n"
     ]
    }
   ],
   "source": [
    "#A.10: dependency between A, B & C\n",
    "d=[a,b,c]\n",
    "print(\"|D|=\",round(np.linalg.det(d)))"
   ]
  },
  {
   "cell_type": "code",
   "execution_count": 14,
   "metadata": {},
   "outputs": [
    {
     "name": "stdout",
     "output_type": "stream",
     "text": [
      "At.B = 2\n",
      "[[ 4  5  6]\n",
      " [ 8 10 12]\n",
      " [12 15 18]]\n",
      "A.Bt = \n",
      "[[32]]\n"
     ]
    }
   ],
   "source": [
    "#A.11: At.B & A*Bt\n",
    "a= np.matrix([1,2,3])\n",
    "b= np.matrix([4,5,6])\n",
    "c= np.matrix([-1,1,3])\n",
    "a111= a.transpose()*b\n",
    "a112= a*b.transpose()\n",
    "print(\"At.B = 2\")\n",
    "print(a111)\n",
    "print(\"A.Bt = \")\n",
    "print(a112)"
   ]
  },
  {
   "cell_type": "code",
   "execution_count": 15,
   "metadata": {},
   "outputs": [],
   "source": [
    "#B.--------------------------------------------------------------------------------------\n",
    "aa= np.array([[1,2,3],[4,-2,3],[0,5,-1]])\n",
    "bb= np.array([[1,2,1],[2,1,-4],[3,-2,1]])\n",
    "cc= np.array([[1,2,3],[4,5,6],[-1,1,3]])"
   ]
  },
  {
   "cell_type": "code",
   "execution_count": 16,
   "metadata": {},
   "outputs": [
    {
     "name": "stdout",
     "output_type": "stream",
     "text": [
      "[[ 1  2  5]\n",
      " [ 6 -5 10]\n",
      " [-3 12 -3]]\n"
     ]
    }
   ],
   "source": [
    "#B.1: 2A-B\n",
    "b1=2*aa-bb\n",
    "print(b1)"
   ]
  },
  {
   "cell_type": "code",
   "execution_count": 17,
   "metadata": {},
   "outputs": [
    {
     "name": "stdout",
     "output_type": "stream",
     "text": [
      "A.B = \n",
      "[[ 14  -2  -4]\n",
      " [  9   0  15]\n",
      " [  7   7 -21]]\n",
      "B.A = \n",
      "[[  9   3   8]\n",
      " [  6 -18  13]\n",
      " [ -5  15   2]]\n"
     ]
    }
   ],
   "source": [
    "#B.2: A.B & B.A\n",
    "b21= np.dot(aa,bb)\n",
    "b22= np.dot(bb,aa)\n",
    "print(\"A.B = \")\n",
    "print(b21)\n",
    "print(\"B.A = \")\n",
    "print(b22)"
   ]
  },
  {
   "cell_type": "code",
   "execution_count": 18,
   "metadata": {},
   "outputs": [
    {
     "name": "stdout",
     "output_type": "stream",
     "text": [
      "(A.B)t = \n",
      "[[ 14   9   7]\n",
      " [ -2   0   7]\n",
      " [ -4  15 -21]]\n",
      "Bt.At = \n",
      "[[ 14   9   7]\n",
      " [ -2   0   7]\n",
      " [ -4  15 -21]]\n"
     ]
    }
   ],
   "source": [
    "#B.3: (AB)t & Bt*At\n",
    "b31= b21.transpose()\n",
    "b32= np.dot(bb.transpose(),aa.transpose())\n",
    "print(\"(A.B)t = \")\n",
    "print(b31)\n",
    "print(\"Bt.At = \")\n",
    "print(b32)"
   ]
  },
  {
   "cell_type": "code",
   "execution_count": 19,
   "metadata": {},
   "outputs": [
    {
     "name": "stdout",
     "output_type": "stream",
     "text": [
      "|A| = 55.0\n",
      "|C| = 0.0\n"
     ]
    }
   ],
   "source": [
    "#B.4: |A| & |C|\n",
    "b41=np.linalg.det(aa)\n",
    "b42=np.linalg.det(cc)\n",
    "print(\"|A| = \"+str(round(b41,1)))\n",
    "print(\"|C| = \"+str(round(b42,1)))"
   ]
  },
  {
   "cell_type": "code",
   "execution_count": 20,
   "metadata": {},
   "outputs": [
    {
     "name": "stdout",
     "output_type": "stream",
     "text": [
      "A.At = \n",
      "[[ 14   9   7]\n",
      " [  9  29 -13]\n",
      " [  7 -13  26]]\n",
      "B.Bt = \n",
      "[[ 6  0  0]\n",
      " [ 0 21  0]\n",
      " [ 0  0 14]]\n",
      "C.Ct = \n",
      "[[14 32 10]\n",
      " [32 77 19]\n",
      " [10 19 11]]\n"
     ]
    }
   ],
   "source": [
    "#B.5: orthogonal set of A, B & C\n",
    "b51= np.dot(aa,aa.transpose())\n",
    "b52= np.dot(bb,bb.transpose())\n",
    "b53= np.dot(cc,cc.transpose())\n",
    "print(\"A.At = \")\n",
    "print(b51)\n",
    "print(\"B.Bt = \")\n",
    "print(b52)\n",
    "print(\"C.Ct = \")\n",
    "print(b53)"
   ]
  },
  {
   "cell_type": "code",
   "execution_count": 21,
   "metadata": {},
   "outputs": [
    {
     "name": "stdout",
     "output_type": "stream",
     "text": [
      "A-1 = \n",
      "[[-0.2364  0.3091  0.2182]\n",
      " [ 0.0727 -0.0182  0.1636]\n",
      " [ 0.3636 -0.0909 -0.1818]]\n",
      "B-1 = \n",
      "[[ 0.1667  0.0952  0.2143]\n",
      " [ 0.3333  0.0476 -0.1429]\n",
      " [ 0.1667 -0.1905  0.0714]]\n"
     ]
    }
   ],
   "source": [
    "#B.6: A-1 & B-1\n",
    "b61=np.linalg.inv(aa).round(4,)\n",
    "b62=np.linalg.inv(bb).round(4,)\n",
    "print(\"A-1 = \")\n",
    "print(b61)\n",
    "print(\"B-1 = \")\n",
    "print(b62)"
   ]
  },
  {
   "cell_type": "code",
   "execution_count": 22,
   "metadata": {},
   "outputs": [],
   "source": [
    "#C.--------------------------------------------------------------------------------------\n",
    "aaa= np.array([[1,2],[3,2]])\n",
    "bbb= np.array([[2,-2],[-2,5]])"
   ]
  },
  {
   "cell_type": "code",
   "execution_count": 23,
   "metadata": {},
   "outputs": [
    {
     "name": "stdout",
     "output_type": "stream",
     "text": [
      "The eigenvalues are = -1.0 & 4.0\n",
      "The eigenvectors normalized are =\n",
      "[[-0.70710678 -0.5547002 ]\n",
      " [ 0.70710678 -0.83205029]]\n"
     ]
    }
   ],
   "source": [
    "#C.1: eigenvalues and eigenvectors of A\n",
    "c11, c12= np.linalg.eig(aaa)\n",
    "print(\"The eigenvalues are = \"+ str(c11[0]) + \" & \"+ str(c11[1]))\n",
    "print(\"The eigenvectors normalized are =\")\n",
    "print(c12)"
   ]
  },
  {
   "cell_type": "code",
   "execution_count": 24,
   "metadata": {},
   "outputs": [
    {
     "name": "stdout",
     "output_type": "stream",
     "text": [
      "V-1*A*V =\n",
      "[[-1. -0.]\n",
      " [ 0.  4.]]\n"
     ]
    }
   ],
   "source": [
    "#C.2: V-1*A*V\n",
    "c1aux=np.linalg.inv(c12)\n",
    "c2aux=np.dot(c1aux,aaa)\n",
    "c21=np.dot(c2aux,c12).round()\n",
    "print(\"V-1*A*V =\")\n",
    "print(c21)"
   ]
  },
  {
   "cell_type": "code",
   "execution_count": 25,
   "metadata": {},
   "outputs": [
    {
     "name": "stdout",
     "output_type": "stream",
     "text": [
      "-0.038461538461538214\n"
     ]
    }
   ],
   "source": [
    "#C.3: dot products between eigenvectors of A\n",
    "c31= np.dot(c12[0],c12[1])\n",
    "print(c31)"
   ]
  },
  {
   "cell_type": "code",
   "execution_count": 26,
   "metadata": {},
   "outputs": [
    {
     "name": "stdout",
     "output_type": "stream",
     "text": [
      "0.0\n"
     ]
    }
   ],
   "source": [
    "#C.4: dot products between eigenvectors of B\n",
    "c41, c42= np.linalg.eig(bbb)\n",
    "c43= np.dot(c42[0],c42[1])\n",
    "print(c43)"
   ]
  },
  {
   "cell_type": "code",
   "execution_count": 27,
   "metadata": {},
   "outputs": [
    {
     "name": "stdout",
     "output_type": "stream",
     "text": [
      "The resulting product is 0. Therefore they must be orthogonal between them.\n"
     ]
    }
   ],
   "source": [
    "#C.5: property of the eigenvectors of B\n",
    "print(\"The resulting product is 0. Therefore they must be orthogonal between them.\")"
   ]
  },
  {
   "cell_type": "code",
   "execution_count": null,
   "metadata": {},
   "outputs": [],
   "source": []
  }
 ],
 "metadata": {
  "kernelspec": {
   "display_name": "Python 3",
   "language": "python",
   "name": "python3"
  },
  "language_info": {
   "codemirror_mode": {
    "name": "ipython",
    "version": 3
   },
   "file_extension": ".py",
   "mimetype": "text/x-python",
   "name": "python",
   "nbconvert_exporter": "python",
   "pygments_lexer": "ipython3",
   "version": "3.6.5"
  }
 },
 "nbformat": 4,
 "nbformat_minor": 2
}
